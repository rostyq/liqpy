{
 "cells": [
  {
   "cell_type": "code",
   "execution_count": null,
   "metadata": {},
   "outputs": [],
   "source": [
    "%load_ext autoreload\n",
    "%autoreload 2\n",
    "\n",
    "%load_ext dotenv\n",
    "%dotenv"
   ]
  },
  {
   "cell_type": "code",
   "execution_count": null,
   "metadata": {},
   "outputs": [],
   "source": [
    "import json\n",
    "import random\n",
    "import string\n",
    "\n",
    "from uuid import uuid4\n",
    "from pprint import pprint\n",
    "from datetime import datetime, timedelta, UTC\n",
    "\n",
    "from liqpy.client import Client\n",
    "from liqpy.testing import TestCard\n",
    "from liqpy.exceptions import LiqPayException"
   ]
  },
  {
   "cell_type": "code",
   "execution_count": null,
   "metadata": {},
   "outputs": [],
   "source": [
    "client = Client()\n",
    "client"
   ]
  },
  {
   "cell_type": "code",
   "execution_count": null,
   "metadata": {},
   "outputs": [],
   "source": [
    "data, signature = client.encode(\n",
    "    action=\"pay\",\n",
    "    amount=1,\n",
    "    order_id=str(uuid4()),\n",
    "    description=\"Test Encoding\",\n",
    "    currency=\"USD\",\n",
    ")\n",
    "\n",
    "sep, end = \"\\n\", \"\\n\\n\"\n",
    "print(\"data:\", data, sep=sep, end=end)\n",
    "print(\"signature:\", signature, sep=sep, end=end)\n",
    "\n",
    "client.callback(data, signature)"
   ]
  },
  {
   "cell_type": "code",
   "execution_count": null,
   "metadata": {},
   "outputs": [],
   "source": [
    "card_exp = datetime.now() + timedelta(days=365 * 4)\n",
    "\n",
    "order_id = str(uuid4())\n",
    "client.request(\n",
    "    \"pay\",\n",
    "    order_id=order_id,\n",
    "    amount=1,\n",
    "    currency=\"USD\",\n",
    "    description=\"Test Payment\",\n",
    "    card=TestCard.successful(),\n",
    "    card_exp_month=str(card_exp.month).ljust(2, \"0\"),\n",
    "    card_exp_year=str(card_exp.year)[-2:],\n",
    "    card_cvv=\"111\",\n",
    ")"
   ]
  },
  {
   "cell_type": "code",
   "execution_count": null,
   "metadata": {},
   "outputs": [],
   "source": [
    "try:\n",
    "    card_exp = datetime.now() + timedelta(days=365 * 4)\n",
    "\n",
    "    order_id = str(uuid4())\n",
    "    client.request(\n",
    "        \"pay\",\n",
    "        order_id=order_id,\n",
    "        amount=1,\n",
    "        currency=\"USD\",\n",
    "        description=\"Test Payment\",\n",
    "        card=TestCard.failure(\"9859\"),\n",
    "        card_exp_month=str(card_exp.month).ljust(2, \"0\"),\n",
    "        card_exp_year=str(card_exp.year)[-2:],\n",
    "        card_cvv=\"111\",\n",
    "    )\n",
    "except LiqPayException as e:\n",
    "    print(e.response)\n",
    "    pprint(e.details)\n",
    "    raise e"
   ]
  },
  {
   "cell_type": "code",
   "execution_count": null,
   "metadata": {},
   "outputs": [],
   "source": [
    "client.status(order_id)"
   ]
  },
  {
   "cell_type": "code",
   "execution_count": null,
   "metadata": {},
   "outputs": [],
   "source": [
    "client.data(order_id, \"Test info\")"
   ]
  },
  {
   "cell_type": "code",
   "execution_count": null,
   "metadata": {},
   "outputs": [],
   "source": [
    "client.checkout(\n",
    "    action=\"pay\",\n",
    "    amount=1,\n",
    "    order_id=str(uuid4()),\n",
    "    description=\"Test Checkout\",\n",
    "    currency=\"USD\",\n",
    ")"
   ]
  },
  {
   "cell_type": "code",
   "execution_count": null,
   "metadata": {},
   "outputs": [],
   "source": [
    "date_to = datetime.now(UTC)\n",
    "date_from = date_to - timedelta(days=30)\n",
    "\n",
    "data = client.reports(date_from=date_from, date_to=date_to, format=\"json\")\n",
    "data = json.loads(data)"
   ]
  },
  {
   "cell_type": "code",
   "execution_count": null,
   "metadata": {},
   "outputs": [],
   "source": []
  }
 ],
 "metadata": {
  "kernelspec": {
   "display_name": "venv",
   "language": "python",
   "name": "python3"
  },
  "language_info": {
   "codemirror_mode": {
    "name": "ipython",
    "version": 3
   },
   "file_extension": ".py",
   "mimetype": "text/x-python",
   "name": "python",
   "nbconvert_exporter": "python",
   "pygments_lexer": "ipython3",
   "version": "3.12.0"
  }
 },
 "nbformat": 4,
 "nbformat_minor": 2
}
