{
 "cells": [
  {
   "cell_type": "code",
   "execution_count": null,
   "metadata": {},
   "outputs": [],
   "source": [
    "%load_ext autoreload\n",
    "%autoreload 2\n",
    "\n",
    "%load_ext dotenv\n",
    "%dotenv"
   ]
  },
  {
   "cell_type": "code",
   "execution_count": null,
   "metadata": {},
   "outputs": [],
   "source": [
    "from liqpy import LiqPay\n",
    "\n",
    "liqpay = LiqPay()\n",
    "liqpay"
   ]
  },
  {
   "cell_type": "code",
   "execution_count": null,
   "metadata": {},
   "outputs": [],
   "source": [
    "from json import dumps\n",
    "from uuid import uuid4\n",
    "\n",
    "order_id = str(uuid4())\n",
    "\n",
    "params = dict(\n",
    "    action=\"pay\",\n",
    "    amount=1,\n",
    "    currency=\"USD\",\n",
    "    description=\"Lorem Ipsum\",\n",
    "    order_id=order_id,\n",
    ")\n",
    "\n",
    "sep, end = \"\\n\", \"\\n\\n\"\n",
    "\n",
    "print(\"params:\", dumps(params, indent=4), sep=sep, end=end)\n",
    "\n",
    "data, signature = liqpay.encode(**params)\n",
    "\n",
    "print(\"data:\", data, sep=sep, end=end)\n",
    "print(\"signature:\", signature, sep=sep)"
   ]
  },
  {
   "cell_type": "code",
   "execution_count": null,
   "metadata": {},
   "outputs": [],
   "source": [
    "from pprint import pprint\n",
    "from liqpy.exceptions import LiqPayException\n",
    "\n",
    "try:\n",
    "    liqpay.request(**params)\n",
    "except LiqPayException as e:\n",
    "    pprint(e.data)\n",
    "    raise e"
   ]
  },
  {
   "cell_type": "code",
   "execution_count": null,
   "metadata": {},
   "outputs": [],
   "source": [
    "liqpay.request(action=\"status\", order_id=order_id)"
   ]
  },
  {
   "cell_type": "code",
   "execution_count": null,
   "metadata": {},
   "outputs": [],
   "source": []
  }
 ],
 "metadata": {
  "kernelspec": {
   "display_name": "venv",
   "language": "python",
   "name": "python3"
  },
  "language_info": {
   "codemirror_mode": {
    "name": "ipython",
    "version": 3
   },
   "file_extension": ".py",
   "mimetype": "text/x-python",
   "name": "python",
   "nbconvert_exporter": "python",
   "pygments_lexer": "ipython3",
   "version": "3.12.0"
  }
 },
 "nbformat": 4,
 "nbformat_minor": 2
}
