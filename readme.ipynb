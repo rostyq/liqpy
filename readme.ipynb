{
 "cells": [
  {
   "cell_type": "markdown",
   "metadata": {},
   "source": [
    "# LiqPay API Notebook"
   ]
  },
  {
   "cell_type": "markdown",
   "metadata": {},
   "source": [
    "Load environment variables and code autoreload plugin."
   ]
  },
  {
   "cell_type": "code",
   "execution_count": null,
   "metadata": {},
   "outputs": [],
   "source": [
    "%load_ext autoreload\n",
    "%autoreload 2\n",
    "\n",
    "%load_ext dotenv\n",
    "%dotenv"
   ]
  },
  {
   "cell_type": "markdown",
   "metadata": {},
   "source": [
    "Imports"
   ]
  },
  {
   "cell_type": "code",
   "execution_count": null,
   "metadata": {},
   "outputs": [],
   "source": [
    "import json\n",
    "import random\n",
    "import string\n",
    "\n",
    "from uuid import uuid4\n",
    "from pprint import pprint\n",
    "from datetime import date, datetime, timedelta, UTC\n",
    "\n",
    "from liqpy.client import Client\n",
    "from liqpy.exceptions import LiqPayException\n",
    "from liqpy.testing import TestCard, gen_card_cvv, gen_card_expire"
   ]
  },
  {
   "cell_type": "markdown",
   "metadata": {},
   "source": [
    "Get URL for callbacks."
   ]
  },
  {
   "cell_type": "code",
   "execution_count": null,
   "metadata": {},
   "outputs": [],
   "source": [
    "%env SERVER_URL"
   ]
  },
  {
   "cell_type": "code",
   "execution_count": null,
   "metadata": {},
   "outputs": [],
   "source": [
    "SERVER_URL = _"
   ]
  },
  {
   "cell_type": "markdown",
   "metadata": {},
   "source": [
    "Initialize client with public and private keys"
   ]
  },
  {
   "cell_type": "code",
   "execution_count": null,
   "metadata": {},
   "outputs": [],
   "source": [
    "client = Client()\n",
    "client"
   ]
  },
  {
   "cell_type": "markdown",
   "metadata": {},
   "source": [
    "Encode request and decode it as callback"
   ]
  },
  {
   "cell_type": "code",
   "execution_count": null,
   "metadata": {},
   "outputs": [],
   "source": [
    "data, signature = client.encode(\n",
    "    action=\"pay\",\n",
    "    amount=1,\n",
    "    order_id=str(uuid4()),\n",
    "    description=\"Test Encoding\",\n",
    "    currency=\"USD\",\n",
    "    server_url=SERVER_URL,\n",
    ")\n",
    "\n",
    "sep, end = \"\\n\", \"\\n\\n\"\n",
    "print(\"data:\", data, sep=sep, end=end)\n",
    "print(\"signature:\", signature, sep=sep, end=end)\n",
    "\n",
    "client.callback(data, signature)"
   ]
  },
  {
   "cell_type": "markdown",
   "metadata": {},
   "source": [
    "Pay request with test card"
   ]
  },
  {
   "cell_type": "code",
   "execution_count": null,
   "metadata": {},
   "outputs": [],
   "source": [
    "card_exp_month, card_exp_year = gen_card_expire(valid=True)\n",
    "\n",
    "order_id = str(uuid4())\n",
    "client.request(\n",
    "    \"pay\",\n",
    "    order_id=order_id,\n",
    "    amount=1,\n",
    "    currency=\"USD\",\n",
    "    description=\"Test Payment\",\n",
    "    card=TestCard.successful(),\n",
    "    card_exp_month=card_exp_month,\n",
    "    card_exp_year=card_exp_year,\n",
    "    card_cvv=gen_card_cvv(),\n",
    "    server_url=SERVER_URL,\n",
    ")"
   ]
  },
  {
   "cell_type": "markdown",
   "metadata": {},
   "source": [
    "Pay request with fail"
   ]
  },
  {
   "cell_type": "code",
   "execution_count": null,
   "metadata": {},
   "outputs": [],
   "source": [
    "try:\n",
    "    card_exp_month, card_exp_year = gen_card_expire(valid=True)\n",
    "\n",
    "    order_id = str(uuid4())\n",
    "    client.request(\n",
    "        \"pay\",\n",
    "        order_id=order_id,\n",
    "        amount=1,\n",
    "        currency=\"USD\",\n",
    "        description=\"Test Payment\",\n",
    "        card=TestCard.failure(\"9859\"),\n",
    "        card_exp_month=card_exp_month,\n",
    "        card_exp_year=card_exp_year,\n",
    "        card_cvv=gen_card_cvv(),\n",
    "        server_url=SERVER_URL,\n",
    "    )\n",
    "except LiqPayException as e:\n",
    "    print(e.response)\n",
    "    pprint(e.details)\n",
    "    raise e"
   ]
  },
  {
   "cell_type": "markdown",
   "metadata": {},
   "source": [
    "Get a payment status"
   ]
  },
  {
   "cell_type": "code",
   "execution_count": null,
   "metadata": {},
   "outputs": [],
   "source": [
    "client.status(order_id)"
   ]
  },
  {
   "cell_type": "markdown",
   "metadata": {},
   "source": [
    "add info to payment"
   ]
  },
  {
   "cell_type": "code",
   "execution_count": null,
   "metadata": {},
   "outputs": [],
   "source": [
    "client.data(order_id, \"Test info\")"
   ]
  },
  {
   "cell_type": "markdown",
   "metadata": {},
   "source": [
    "Create checkout link"
   ]
  },
  {
   "cell_type": "code",
   "execution_count": null,
   "metadata": {},
   "outputs": [],
   "source": [
    "client.checkout(\n",
    "    action=\"pay\",\n",
    "    amount=1,\n",
    "    order_id=str(uuid4()),\n",
    "    description=\"Test Checkout\",\n",
    "    currency=\"USD\",\n",
    "    server_url=SERVER_URL\n",
    ")"
   ]
  },
  {
   "cell_type": "markdown",
   "metadata": {},
   "source": [
    "Get payments report"
   ]
  },
  {
   "cell_type": "code",
   "execution_count": null,
   "metadata": {},
   "outputs": [],
   "source": [
    "date_to = datetime.now(UTC)\n",
    "date_from = date_to - timedelta(days=30)\n",
    "\n",
    "data = client.reports(date_from=date_from, date_to=date_to, format=\"json\")\n",
    "data = json.loads(data)"
   ]
  },
  {
   "cell_type": "code",
   "execution_count": null,
   "metadata": {},
   "outputs": [],
   "source": []
  }
 ],
 "metadata": {
  "kernelspec": {
   "display_name": "venv",
   "language": "python",
   "name": "python3"
  },
  "language_info": {
   "codemirror_mode": {
    "name": "ipython",
    "version": 3
   },
   "file_extension": ".py",
   "mimetype": "text/x-python",
   "name": "python",
   "nbconvert_exporter": "python",
   "pygments_lexer": "ipython3",
   "version": "3.12.0"
  }
 },
 "nbformat": 4,
 "nbformat_minor": 2
}
