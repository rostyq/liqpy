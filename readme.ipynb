{
 "cells": [
  {
   "cell_type": "markdown",
   "metadata": {},
   "source": [
    "# LiqPay API Notebook"
   ]
  },
  {
   "cell_type": "markdown",
   "metadata": {},
   "source": [
    "## Setup"
   ]
  },
  {
   "cell_type": "markdown",
   "metadata": {},
   "source": [
    "Load environment variables and code autoreload plugin."
   ]
  },
  {
   "cell_type": "code",
   "execution_count": null,
   "metadata": {},
   "outputs": [],
   "source": [
    "%load_ext autoreload\n",
    "%autoreload 2\n",
    "\n",
    "%load_ext dotenv\n",
    "%dotenv -o"
   ]
  },
  {
   "cell_type": "markdown",
   "metadata": {},
   "source": [
    "Imports"
   ]
  },
  {
   "cell_type": "code",
   "execution_count": null,
   "metadata": {},
   "outputs": [],
   "source": [
    "import json\n",
    "\n",
    "from os import getenv\n",
    "from uuid import uuid4\n",
    "from pprint import pprint\n",
    "from datetime import date, datetime, timedelta, UTC\n",
    "\n",
    "from liqpy.testing import TestCard, gen_card_cvv, gen_card_expire"
   ]
  },
  {
   "cell_type": "markdown",
   "metadata": {},
   "source": [
    "Initialize client with public and private keys"
   ]
  },
  {
   "cell_type": "code",
   "execution_count": null,
   "metadata": {},
   "outputs": [],
   "source": [
    "from liqpy.client import Client\n",
    "\n",
    "client = Client()\n",
    "client"
   ]
  },
  {
   "cell_type": "markdown",
   "metadata": {},
   "source": [
    "## Examples"
   ]
  },
  {
   "cell_type": "markdown",
   "metadata": {},
   "source": [
    "Encode request and decode it as callback"
   ]
  },
  {
   "cell_type": "code",
   "execution_count": null,
   "metadata": {},
   "outputs": [],
   "source": [
    "params, signature = client.encode(\n",
    "    action=\"pay\",\n",
    "    amount=1,\n",
    "    order_id=uuid4(),\n",
    "    description=\"Test Encoding\",\n",
    "    currency=\"USD\",\n",
    ")\n",
    "\n",
    "sep, end = \"\\n\", \"\\n\\n\"\n",
    "print(\"data:\", params, sep=sep, end=end)\n",
    "print(\"signature:\", signature, sep=sep, end=end)\n",
    "\n",
    "client.callback(params, signature)"
   ]
  },
  {
   "cell_type": "markdown",
   "metadata": {},
   "source": [
    "Pay request with test card"
   ]
  },
  {
   "cell_type": "code",
   "execution_count": null,
   "metadata": {},
   "outputs": [],
   "source": [
    "card_exp_month, card_exp_year = gen_card_expire(valid=True)\n",
    "\n",
    "order_id = uuid4()\n",
    "client.pay(\n",
    "    order_id=order_id,\n",
    "    amount=1,\n",
    "    currency=\"USD\",\n",
    "    description=\"Test Payment\",\n",
    "    card=TestCard.successful(),\n",
    "    card_exp_month=card_exp_month,\n",
    "    card_exp_year=card_exp_year,\n",
    "    card_cvv=gen_card_cvv(),\n",
    ")"
   ]
  },
  {
   "cell_type": "markdown",
   "metadata": {},
   "source": [
    "Refund the payment"
   ]
  },
  {
   "cell_type": "code",
   "execution_count": null,
   "metadata": {},
   "outputs": [],
   "source": [
    "client.refund(order_id=order_id, amount=1)"
   ]
  },
  {
   "cell_type": "markdown",
   "metadata": {},
   "source": [
    "Pay request with fail"
   ]
  },
  {
   "cell_type": "code",
   "execution_count": null,
   "metadata": {},
   "outputs": [],
   "source": [
    "from liqpy.exceptions import LiqPayException\n",
    "\n",
    "try:\n",
    "    card_exp_month, card_exp_year = gen_card_expire(valid=True)\n",
    "\n",
    "    order_id = str(uuid4())\n",
    "    client.pay(\n",
    "        order_id=order_id,\n",
    "        amount=1,\n",
    "        currency=\"USD\",\n",
    "        description=\"Test Payment\",\n",
    "        card=TestCard.failure(\"9859\"),\n",
    "        card_exp_month=card_exp_month,\n",
    "        card_exp_year=card_exp_year,\n",
    "        card_cvv=gen_card_cvv(),\n",
    "    )\n",
    "except LiqPayException as e:\n",
    "    print(e.code, e)\n",
    "    print(e.response)\n",
    "    pprint(e.details)\n",
    "    raise e"
   ]
  },
  {
   "cell_type": "markdown",
   "metadata": {},
   "source": [
    "Get a payment status"
   ]
  },
  {
   "cell_type": "code",
   "execution_count": null,
   "metadata": {},
   "outputs": [],
   "source": [
    "client.status(order_id)"
   ]
  },
  {
   "cell_type": "markdown",
   "metadata": {},
   "source": [
    "add info to payment"
   ]
  },
  {
   "cell_type": "code",
   "execution_count": null,
   "metadata": {},
   "outputs": [],
   "source": [
    "client.data(order_id, \"Lorem Ipsum\")"
   ]
  },
  {
   "cell_type": "markdown",
   "metadata": {},
   "source": [
    "Test checkout callback"
   ]
  },
  {
   "cell_type": "code",
   "execution_count": null,
   "metadata": {},
   "outputs": [],
   "source": [
    "from liqpy.server import LiqpayServer\n",
    "from webbrowser import open_new_tab\n",
    "\n",
    "action = \"auth\"\n",
    "order_id = uuid4()\n",
    "\n",
    "expire = timedelta(seconds=20)\n",
    "timeout = 10 \n",
    "timeout = (expire + timedelta(seconds=timeout)).total_seconds()\n",
    "\n",
    "server_url = getenv(\"SERVER_URL\") or None\n",
    "\n",
    "checkout_url = client.checkout(\n",
    "    action,\n",
    "    amount=1,\n",
    "    order_id=uuid4(),\n",
    "    description=f\"test {action} checkout\",\n",
    "    currency=\"USD\",\n",
    "    expired_date=expire,\n",
    "    # subscribe_date_start=timedelta(days=7),\n",
    "    # subscribe_periodicity=\"month\",\n",
    "    result_url=\"https://example.com/result\",\n",
    "    server_url=server_url,\n",
    ")\n",
    "\n",
    "print(\"checkout link\\n\", checkout_url)\n",
    "open_new_tab(checkout_url)\n",
    "\n",
    "if server_url is not None:\n",
    "    with LiqpayServer(client=client, timeout=timeout) as server:\n",
    "        server.handle_request()"
   ]
  },
  {
   "cell_type": "markdown",
   "metadata": {},
   "source": [
    "Get payments report"
   ]
  },
  {
   "cell_type": "code",
   "execution_count": null,
   "metadata": {},
   "outputs": [],
   "source": [
    "date_to = datetime.now(UTC)\n",
    "date_from = date_to - timedelta(days=1)\n",
    "print(\"from:\", date_from)\n",
    "print(\"to:\", date_to)\n",
    "\n",
    "params = client.reports(date_from=date_from, date_to=date_to, format=\"json\")\n",
    "params = json.loads(params)\n",
    "params"
   ]
  },
  {
   "cell_type": "code",
   "execution_count": null,
   "metadata": {},
   "outputs": [],
   "source": [
    "print(client.reports(date_from=date_from, date_to=date_to, format=\"csv\"))"
   ]
  },
  {
   "cell_type": "code",
   "execution_count": null,
   "metadata": {},
   "outputs": [],
   "source": [
    "print(client.reports(date_from=date_from, date_to=date_to, format=\"xml\"))"
   ]
  },
  {
   "cell_type": "markdown",
   "metadata": {},
   "source": [
    "Create subscription"
   ]
  },
  {
   "cell_type": "code",
   "execution_count": null,
   "metadata": {},
   "outputs": [],
   "source": [
    "card_exp_month, card_exp_year = gen_card_expire(valid=True)\n",
    "\n",
    "order_id = uuid4()\n",
    "client.subscribe(\n",
    "    amount=1,\n",
    "    order_id=order_id,\n",
    "    description=\"Test Subscribe\",\n",
    "    currency=\"USD\",\n",
    "    card=TestCard.successful(),\n",
    "    card_exp_month=card_exp_month,\n",
    "    card_exp_year=card_exp_year,\n",
    "    card_cvv=gen_card_cvv(),\n",
    "    # phone=\"+380661234567\",\n",
    "    subscribe_periodicity=\"month\",\n",
    "    subscribe_date_start=timedelta()\n",
    ")"
   ]
  },
  {
   "cell_type": "markdown",
   "metadata": {},
   "source": [
    "Unsubscribe"
   ]
  },
  {
   "cell_type": "code",
   "execution_count": null,
   "metadata": {},
   "outputs": [],
   "source": [
    "client.unsubscribe(order_id=order_id)"
   ]
  }
 ],
 "metadata": {
  "kernelspec": {
   "display_name": "venv",
   "language": "python",
   "name": "python3"
  },
  "language_info": {
   "codemirror_mode": {
    "name": "ipython",
    "version": 3
   },
   "file_extension": ".py",
   "mimetype": "text/x-python",
   "name": "python",
   "nbconvert_exporter": "python",
   "pygments_lexer": "ipython3",
   "version": "3.12.0"
  }
 },
 "nbformat": 4,
 "nbformat_minor": 2
}
